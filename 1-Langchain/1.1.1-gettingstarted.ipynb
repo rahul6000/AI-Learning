{
 "cells": [
  {
   "cell_type": "markdown",
   "metadata": {},
   "source": [
    "#### Getting started With Langchain And Open AI\n",
    "\n",
    "In this quickstart we'll see how to:\n",
    "\n",
    "- Set up LangChain, LangSmith, and LangServe\n",
    "- Utilize the core components of LangChain, including prompt templates, models, and output parsers\n",
    "- Create a simple application using LangChain\n",
    "- Monitor your application with LangSmith\n",
    "- Serve your application using LangServe"
   ]
  },
  {
   "cell_type": "code",
   "execution_count": 1,
   "metadata": {},
   "outputs": [],
   "source": [
    "import os\n",
    "from dotenv import load_dotenv\n",
    "load_dotenv()\n",
    "\n",
    "os.environ['OPENAI_API_KEY']=os.getenv(\"OPENAI_API_KEY\")\n",
    "## Langsmith Tracking\n",
    "os.environ[\"LANGCHAIN_API_KEY\"]=os.getenv(\"LANGCHAIN_API_KEY\")\n",
    "os.environ[\"LANGCHAIN_TRACING_V2\"]=\"true\"\n",
    "os.environ[\"LANGCHAIN_PROJECT\"]=os.getenv(\"LANGCHAIN_PROJECT\")"
   ]
  },
  {
   "cell_type": "code",
   "execution_count": 2,
   "metadata": {},
   "outputs": [
    {
     "name": "stdout",
     "output_type": "stream",
     "text": [
      "client=<openai.resources.chat.completions.Completions object at 0x117fe7200> async_client=<openai.resources.chat.completions.AsyncCompletions object at 0x120604f20> root_client=<openai.OpenAI object at 0x1178a5160> root_async_client=<openai.AsyncOpenAI object at 0x117fb7c50> model_name='gpt-4o' model_kwargs={} openai_api_key=SecretStr('**********')\n"
     ]
    }
   ],
   "source": [
    "from langchain_openai import ChatOpenAI\n",
    "llm=ChatOpenAI(model=\"gpt-4o\")\n",
    "print(llm)"
   ]
  },
  {
   "cell_type": "code",
   "execution_count": 3,
   "metadata": {},
   "outputs": [],
   "source": [
    "result=llm.invoke(\"What is Gen AI?\")"
   ]
  },
  {
   "cell_type": "code",
   "execution_count": 4,
   "metadata": {},
   "outputs": [
    {
     "data": {
      "text/plain": [
       "AIMessage(content='Generative AI, often abbreviated as Gen AI, refers to a type of artificial intelligence that can generate new content. This includes text, images, music, and other media, based on the patterns and knowledge it has learned from existing data. Unlike traditional AI, which often focuses on recognizing patterns or making predictions based on input data, generative AI models create original and novel outputs that can mimic human creativity.\\n\\nProminent examples of generative AI include models like GPT-3 and GPT-4 for text generation, Stable Diffusion and DALL-E for image creation, and various others capable of producing music or even video content. These AI systems are trained on vast datasets and use techniques like neural networks, often specifically leveraging architectures like transformers, to learn relationships within the data and generate new content that adheres to those learned patterns.\\n\\nGenerative AI has applications in a wide range of fields, from entertainment and art to marketing, design, and even software development. It enables the creation of personalized content at scale, rapid prototyping, and innovation in creative fields. However, it also raises challenges and concerns, including ethical issues around authorship, originality, and the potential for misuse.', additional_kwargs={'refusal': None}, response_metadata={'token_usage': {'completion_tokens': 236, 'prompt_tokens': 12, 'total_tokens': 248, 'completion_tokens_details': {'accepted_prediction_tokens': 0, 'audio_tokens': 0, 'reasoning_tokens': 0, 'rejected_prediction_tokens': 0}, 'prompt_tokens_details': {'audio_tokens': 0, 'cached_tokens': 0}}, 'model_name': 'gpt-4o-2024-08-06', 'system_fingerprint': 'fp_4691090a87', 'finish_reason': 'stop', 'logprobs': None}, id='run-e27db6d3-75f9-44cc-a04f-353184bc68bf-0', usage_metadata={'input_tokens': 12, 'output_tokens': 236, 'total_tokens': 248, 'input_token_details': {'audio': 0, 'cache_read': 0}, 'output_token_details': {'audio': 0, 'reasoning': 0}})"
      ]
     },
     "execution_count": 4,
     "metadata": {},
     "output_type": "execute_result"
    }
   ],
   "source": [
    "result"
   ]
  },
  {
   "cell_type": "code",
   "execution_count": 5,
   "metadata": {},
   "outputs": [],
   "source": [
    "from langchain_core.prompts import ChatPromptTemplate"
   ]
  },
  {
   "cell_type": "code",
   "execution_count": 6,
   "metadata": {},
   "outputs": [
    {
     "data": {
      "text/plain": [
       "ChatPromptTemplate(input_variables=['query'], input_types={}, partial_variables={}, messages=[SystemMessagePromptTemplate(prompt=PromptTemplate(input_variables=[], input_types={}, partial_variables={}, template='You are an expert Data Scientist and Gen AI Engineer. Provide me answers based on the asked question '), additional_kwargs={}), HumanMessagePromptTemplate(prompt=PromptTemplate(input_variables=['query'], input_types={}, partial_variables={}, template='{query}'), additional_kwargs={})])"
      ]
     },
     "execution_count": 6,
     "metadata": {},
     "output_type": "execute_result"
    }
   ],
   "source": [
    "prompt=ChatPromptTemplate.from_messages(\n",
    "    [\n",
    "        (\"system\",\"You are an expert Data Scientist and Gen AI Engineer. Provide me answers based on the asked question \"),\n",
    "        (\"user\",\"{query}\")\n",
    "\n",
    "    ]\n",
    ")\n",
    "prompt"
   ]
  },
  {
   "cell_type": "markdown",
   "metadata": {},
   "source": [
    "### Chains\n",
    "Chains are easily reusable components linked together.\n",
    "\n",
    "Chains encode a sequence of calls to components like models, document retrievers, other Chains, etc., and provide a simple interface to this sequence.\n",
    "\n",
    "The Chain interface makes it easy to create apps that are:\n",
    "\n",
    "Stateful: add Memory to any Chain to give it state,\n",
    "\n",
    "Observable: pass Callbacks to a Chain to execute additional functionality, like logging, outside the main sequence of component calls,\n",
    "\n",
    "Composable: combine Chains with other components, including other Chains."
   ]
  },
  {
   "cell_type": "code",
   "execution_count": 7,
   "metadata": {},
   "outputs": [
    {
     "name": "stdout",
     "output_type": "stream",
     "text": [
      "content='Langsmith is a recently introduced suite of tools and features by LangChain, designed to assist in developing more reliable and accurate AI applications that rely on language models. It includes capabilities for tracking, evaluating, and making specific use cases with language models more effective. One of the key features of Langsmith is its experimental app, which allows developers to perform complex prompt engineering, model testing, and iterative evaluations, all aimed at improving the robustness of language model outputs. By providing a structured way to test various configurations and _prompts_, Langsmith helps developers better understand model behavior and refine applications accordingly.' additional_kwargs={'refusal': None} response_metadata={'token_usage': {'completion_tokens': 119, 'prompt_tokens': 39, 'total_tokens': 158, 'completion_tokens_details': {'accepted_prediction_tokens': 0, 'audio_tokens': 0, 'reasoning_tokens': 0, 'rejected_prediction_tokens': 0}, 'prompt_tokens_details': {'audio_tokens': 0, 'cached_tokens': 0}}, 'model_name': 'gpt-4o-2024-08-06', 'system_fingerprint': 'fp_50cad350e4', 'finish_reason': 'stop', 'logprobs': None} id='run-2ce37363-b27c-4149-a09f-83de8032c9de-0' usage_metadata={'input_tokens': 39, 'output_tokens': 119, 'total_tokens': 158, 'input_token_details': {'audio': 0, 'cache_read': 0}, 'output_token_details': {'audio': 0, 'reasoning': 0}}\n"
     ]
    }
   ],
   "source": [
    "## chain \n",
    "chain=prompt|llm\n",
    "\n",
    "response=chain.invoke({\"query\":\"Can you tell me about Langsmith?\"})\n",
    "print(response)\n"
   ]
  },
  {
   "cell_type": "code",
   "execution_count": 8,
   "metadata": {},
   "outputs": [
    {
     "data": {
      "text/plain": [
       "'Langsmith is a recently introduced suite of tools and features by LangChain, designed to assist in developing more reliable and accurate AI applications that rely on language models. It includes capabilities for tracking, evaluating, and making specific use cases with language models more effective. One of the key features of Langsmith is its experimental app, which allows developers to perform complex prompt engineering, model testing, and iterative evaluations, all aimed at improving the robustness of language model outputs. By providing a structured way to test various configurations and _prompts_, Langsmith helps developers better understand model behavior and refine applications accordingly.'"
      ]
     },
     "execution_count": 8,
     "metadata": {},
     "output_type": "execute_result"
    }
   ],
   "source": [
    "response.content"
   ]
  },
  {
   "cell_type": "markdown",
   "metadata": {},
   "source": [
    "## Stroutput Parser\n",
    "The StrOutputParser is a fundamental component in the Langchain framework, designed to streamline the output from language models (LLMs) and ChatModels into a usable string format. This parser is particularly useful when dealing with outputs that may vary in structure, such as strings or messages. It ensures that the output is consistent and easy to handle in subsequent processing steps."
   ]
  },
  {
   "cell_type": "code",
   "execution_count": 9,
   "metadata": {},
   "outputs": [
    {
     "name": "stdout",
     "output_type": "stream",
     "text": [
      "As of my last update, Langsmith is not directly identifiable from known entities, products, or popular concepts up to October 2023. However, the name \"Langsmith\" suggests a focus on language or textual content, possibly in the realm of natural language processing, artificial intelligence, or similar fields.\n",
      "\n",
      "If Langsmith is a new product, service, company, or concept, it might relate to:\n",
      "\n",
      "1. **Language Technology**: It could be a tool, platform, or company specializing in language processing or artificial intelligence, akin to what entities like OpenAI, Google NLP, or others might develop.\n",
      "\n",
      "2. **Software Development**: Langsmith might represent a framework, library, or service designed to enhance software development in the realm of language processing, similar to how companies like Hugging Face provide tools for AI model deployment and management.\n",
      "\n",
      "3. **Education or Content Creation**: It may also focus on educational technology or content creation, utilizing advanced AI to generate or assist in creating text.\n",
      "\n",
      "For the most current and specific details, it would be best to check the latest announcements, press releases, or reliable online sources related to the context of Langsmith you are interested in.\n"
     ]
    }
   ],
   "source": [
    "from langchain_core.output_parsers import StrOutputParser\n",
    "output_parser=StrOutputParser()\n",
    "chain=prompt|llm|output_parser\n",
    "\n",
    "response=chain.invoke({\"query\":\"Can you tell me about Langsmith?\"})\n",
    "print(response)"
   ]
  },
  {
   "cell_type": "code",
   "execution_count": 11,
   "metadata": {},
   "outputs": [],
   "source": [
    "from langchain_core.prompts import PromptTemplate\n",
    "from langchain_core.output_parsers import JsonOutputParser\n",
    "output_parser=JsonOutputParser()\n",
    "prompt = PromptTemplate(\n",
    "    template=\"Answer the user query.\\n{format_instructions}\\n{query}\\n\",\n",
    "    input_variables=[\"query\"],\n",
    "    partial_variables={\"format_instructions\": output_parser.get_format_instructions()},\n",
    ")"
   ]
  },
  {
   "cell_type": "code",
   "execution_count": 12,
   "metadata": {},
   "outputs": [
    {
     "name": "stdout",
     "output_type": "stream",
     "text": [
      "{'company': 'Langsmith', 'description': 'Langsmith is a company focused on developing advanced natural language processing and AI solutions. They provide tools and platforms that facilitate enhanced communication and understanding between humans and machines.', 'services': ['Natural Language Processing', 'Machine Learning Models', 'AI-powered Chatbots', 'Text Analytics'], 'industry': 'Technology', 'website': 'https://www.langsmith.com', 'foundation_year': 2019, 'headquarters': 'San Francisco, CA, USA', 'key_features': ['Cutting-edge AI solutions', 'User-friendly interfaces', 'Customizable platforms', 'Comprehensive analytics']}\n"
     ]
    }
   ],
   "source": [
    "from langchain_core.output_parsers import JsonOutputParser\n",
    "output_parser=JsonOutputParser()\n",
    "chain=prompt|llm|output_parser\n",
    "\n",
    "response=chain.invoke({\"query\":\"Can you tell me about Langsmith?\"})\n",
    "print(response)"
   ]
  },
  {
   "cell_type": "code",
   "execution_count": 13,
   "metadata": {},
   "outputs": [],
   "source": [
    "## Data Ingestion--From the website we need to scrape the data\n",
    "from langchain_community.document_loaders import PyPDFLoader"
   ]
  },
  {
   "cell_type": "code",
   "execution_count": 14,
   "metadata": {},
   "outputs": [
    {
     "data": {
      "text/plain": [
       "<langchain_community.document_loaders.pdf.PyPDFLoader at 0x1179ed280>"
      ]
     },
     "execution_count": 14,
     "metadata": {},
     "output_type": "execute_result"
    }
   ],
   "source": [
    "loader=PyPDFLoader(\"../Bee.pdf\")\n",
    "loader"
   ]
  },
  {
   "cell_type": "code",
   "execution_count": 15,
   "metadata": {},
   "outputs": [
    {
     "data": {
      "text/plain": [
       "[Document(metadata={'source': '../Bee.pdf', 'page': 0, 'page_label': '1'}, page_content='        \\n \\n \\n    \\nBeehive \\nGetting you up and running with Beehive Documents \\nDocuments '),\n",
       " Document(metadata={'source': '../Bee.pdf', 'page': 1, 'page_label': '2'}, page_content=' \\ni \\n \\nBeehive.ey.com \\nBeehive Documents \\nBeehive Documents enables you to rapidly create documents from \\ntemplates without the hassle of manually editing a Word file. With Beehive \\nDocuments you can prepare lengthy documentation in minute s, with \\nimproved consistency of language across documents , easily accessible \\ndocument templates. \\n \\nThis guide wil l help you quickly get up and running with Beehive \\nDocuments but if you have any queries , or if you would like to create \\nyour own templates please reach out to us at beehive@ey.com.  '),\n",
       " Document(metadata={'source': '../Bee.pdf', 'page': 2, 'page_label': '3'}, page_content=' \\nii \\n \\nBeehive.ey.com \\nContents \\n1. Beehive Documents ...................................................................................... 1 \\n2. Navigating to Documents ............................................................................. 1 \\n3. Project Documents ........................................................................................ 2 \\n4. Start a New Document ................................................................................ 3 \\n5. Selecting a Template ................................................................................... 4 \\n6. Create a Document ...................................................................................... 6 \\n7. Manually Edit the Document ......................................................................... 8 \\n8. Further Review and Workflow Options ....................................................... 10 \\n9. Glossary ....................................................................................................... 12 \\n '),\n",
       " Document(metadata={'source': '../Bee.pdf', 'page': 3, 'page_label': '4'}, page_content=' \\n1 \\n \\nBeehive.ey.com \\n1. Beehive Documents \\nBeehive documents allows you to rapidly create documents from templates, \\nas well as any other project documentation . You can create documents \\nsuch as letters, service agreements and project documentation in minutes, \\nwith increased quality and consistency of output across users. Documents \\ncan be assigned to project team members, and reviewed quickly and easily \\nwithin the tool. \\n \\n2. Navigating to Documents \\nBeehive Documents is accessed from within any Beehive Project. Simply \\nopen a project and select the ‘Documents’ link from the left-hand menu. \\n \\n'),\n",
       " Document(metadata={'source': '../Bee.pdf', 'page': 4, 'page_label': '5'}, page_content=' \\n2 \\n \\nBeehive.ey.com \\n3. Project Documents  \\nDocuments created within your project can be viewed within the ‘Project \\nDocuments’ table. \\n \\na. Search \\nYou can search by the document title \\nb. Title \\nThe document name \\nc. Status \\nStatus shows if the document is  ‘draft’ or ‘complete’. If complete is \\nselected the document will be locked for further editing. \\nd. Assigned to \\nThe project member that the document is assigned to \\ne. Last Edited \\nThe date of the last edit to the document (DD/MM/YYYY). \\n \\n \\n \\n'),\n",
       " Document(metadata={'source': '../Bee.pdf', 'page': 5, 'page_label': '6'}, page_content=' \\n3 \\n \\nBeehive.ey.com \\n4. Start a New Document \\nYou have the option to start a blank document or create one from a \\npublished template. \\n \\n \\na. Create a Blank Document \\nCreate a document from scratch using the ‘Blank’ tile.  \\nb. Create a Document from a Template \\nCreate a document from a template by selecting the ‘from template’ tile \\nto open the template library. \\n \\n \\n \\n \\n \\n \\n'),\n",
       " Document(metadata={'source': '../Bee.pdf', 'page': 6, 'page_label': '7'}, page_content=' \\n4 \\n \\nBeehive.ey.com \\n5. Selecting a Template \\nFilter and search the template library to find the correct template for your \\nneeds. \\n \\na. Return to Documents Home \\nClose the template library and return to the previous page \\nb. Search for a specific template \\nKeyword search based on template name \\nc. Category (filter) \\nSelect a category to filter search results. You can select one, all or a \\nselection by checking the boxes. \\nd. Sub-category (filter) \\nSelect a sub-category to filter search results once a category has been \\nselected. You can select one, all or a selection by checking the boxes. \\n'),\n",
       " Document(metadata={'source': '../Bee.pdf', 'page': 7, 'page_label': '8'}, page_content=' \\n5 \\n \\nBeehive.ey.com \\ne. Filter \\nApply the category and sub-category selections to the search results. \\nf. Template  \\nTemplate names. \\ng. Category  \\nSelect a category to filter the listed templates. \\nh. Sub-category \\nSelect a sub-category to further filter the listed templates. \\ni. Description \\nTemplate details, such as advice on when to use a template. \\nj. Preview Template \\nPreview a template by selecting the menu option to the right of the \\ntemplates table and selecting preview from the dropdown. \\n \\n \\n \\n \\n \\n  '),\n",
       " Document(metadata={'source': '../Bee.pdf', 'page': 8, 'page_label': '9'}, page_content=' \\n6 \\n \\nBeehive.ey.com \\n6. Create a Document \\nDocuments are drafted within the document editor. The first step in creating \\na document is to complete the questionnaire. \\n \\na. Question \\nThe questionnaire is located on the left-hand side of the page. Questions \\nare numbered and are one of two types: Text input or Multiple -choice. \\nEach question is related to one (or more) variables within the document \\non the right-hand side of the page. Thes e variables are highlighted in \\nyellow. Your answers to questions will define how these variables are \\npopulated. \\n \\n \\n'),\n",
       " Document(metadata={'source': '../Bee.pdf', 'page': 9, 'page_label': '10'}, page_content=' \\n7 \\n \\nBeehive.ey.com \\nb. Question Response \\nText input questions require a manually typed or pasted input from you. \\nMultiple-choice questions require you to select a pre-defined option from \\nthe drop-down menu. \\nc. Highlight answers (all answers) \\nThe highlight answers toggle highlights, in green, where question \\nanswers affect the document on the right -hand side of the page. For \\ntext input questions, your response is highlighted . For multiple choice \\nquestions, your selection will populate the document with pre -defined \\ntext relating to your selected answer . Text removed because of your \\nresponse will be also be highlighted and will be struck through. \\nd. Highlight answers (individual answers) \\nUsing the highlight individual answers toggle you can highlight individual \\nquestion responses within the document. \\n \\n \\n  \\n  \\n  '),\n",
       " Document(metadata={'source': '../Bee.pdf', 'page': 10, 'page_label': '11'}, page_content=' \\n8 \\n \\nBeehive.ey.com \\n7. Manually Edit the Document \\n \\na. Manually edit the document \\nYou can make manual edits to the document by selecting anywhere \\nwith the editor on the right-hand side of the page and editing as you \\nwould in Word.  \\nb. Formatting \\nStandard formatting options such as B, I, U are available; advanced \\nformatting should be completed in Word after the content has been \\nprepared in Beehive Documents. \\n'),\n",
       " Document(metadata={'source': '../Bee.pdf', 'page': 11, 'page_label': '12'}, page_content=' \\n9 \\n \\nBeehive.ey.com \\nc. Page breaks \\nIf required, you can add page breaks to your document. The appear \\nas a dotted line block within documents but will resolve to a new \\npage once the document is downloaded to Word. \\nd. Save & Autosave \\nThe save document button is located to the bottom right of the editor.  \\nAn autosave feature is also in place which will save the document \\nevery few seconds. This cannot be disabled.  \\n \\n \\n  '),\n",
       " Document(metadata={'source': '../Bee.pdf', 'page': 12, 'page_label': '13'}, page_content=' \\n10 \\n \\nBeehive.ey.com \\n8. Further Review and Workflow Options \\n \\na. Document name \\nYou can view the document name above the editor. This will begin with \\na default name for new documents . To rename, simply click the edit \\nicon to the right of the name and type in your desired name. \\nb. Document status \\nThe status of the document can be seen above the editor. The default \\nstatus is ‘draft’. You can change the status to ‘complete’ once all \\nquestions have been answered. Note: If a text answer is not applicable \\nthen please answer with a space. \\nc. Document assignee \\nDocument Assignee can be viewed above the editor. For new documents \\nthe assignee will default to the document creator. You can choose \\nanother assignee by selected a name from the dropdown.  This will be \\nreflected in the Project Documents page so that the project team can \\nkeep track of document accountabilities. \\nd. Download document \\nAt any point during the document creation process you can download \\nthe document. This will download an MS Word version of the document. \\nNote: You must save the document at least once before downloading. \\n'),\n",
       " Document(metadata={'source': '../Bee.pdf', 'page': 13, 'page_label': '14'}, page_content=' \\n11 \\n \\nBeehive.ey.com \\ne. Highlight manual changes \\nYou can highlight manual changes within the document by selecting the \\n‘Highlight manual changes’ toggle above and to the right of the editor. \\nThis will apply to any changes that you have made which differ to the \\ndefault template text. Changes will be highlighted in red. \\n \\n  '),\n",
       " Document(metadata={'source': '../Bee.pdf', 'page': 14, 'page_label': '15'}, page_content=' \\n12 \\n \\nBeehive.ey.com \\n9.  Glossary \\nCreator  Templates are created and published by Creator users \\n   \\nDocument  Documents are stored within projects on the Project \\nDocuments page; these are based on templates or \\nbegin as blank documents \\n \\nDocument Editor  The right-hand window which shows the document \\ncontent and formatting options \\n \\nManual change  A change made to the template text in the Document \\nEditor; text can be added or removed \\n \\nMultiple choice \\nanswer \\n A drop-down field where your selection will determine \\nthe content populated in the document \\n \\nTemplate  A template is comprised of the document content and \\nquestionnaire \\n \\nTemplate Library  Creators publish templates to the Template Library for \\nPreparers to use \\n '),\n",
       " Document(metadata={'source': '../Bee.pdf', 'page': 15, 'page_label': '16'}, page_content=' \\n13 \\n \\nBeehive.ey.com \\nText input  The text you enter will be populated in the document \\n \\nPreparer  Documents are created by Preparer users within \\nprojects \\n \\nProject \\nDocuments \\n The overview page which shows all project \\ndocuments, their status and who each document is \\nassigned to \\n \\nQuestionnaire  The left-hand window which shows the questions to \\nbe completed to populate the document \\n \\n \\n \\n ')]"
      ]
     },
     "execution_count": 15,
     "metadata": {},
     "output_type": "execute_result"
    }
   ],
   "source": [
    "documents=loader.load()\n",
    "documents"
   ]
  },
  {
   "cell_type": "code",
   "execution_count": 16,
   "metadata": {},
   "outputs": [],
   "source": [
    "from langchain_openai import OpenAIEmbeddings\n",
    "embeddings=OpenAIEmbeddings()\n",
    "from langchain_experimental.text_splitter import SemanticChunker\n",
    "text_splitter=SemanticChunker(embeddings,number_of_chunks = 10)\n",
    "\n"
   ]
  },
  {
   "cell_type": "code",
   "execution_count": 18,
   "metadata": {},
   "outputs": [],
   "source": [
    "from langchain_openai import OpenAIEmbeddings\n",
    "embeddings=OpenAIEmbeddings()"
   ]
  },
  {
   "cell_type": "code",
   "execution_count": 1,
   "metadata": {},
   "outputs": [
    {
     "data": {
      "text/plain": [
       "<langchain_community.vectorstores.faiss.FAISS at 0x1310cb9b0>"
      ]
     },
     "execution_count": 19,
     "metadata": {},
     "output_type": "execute_result"
    }
   ],
   "source": [
    "from langchain_community.vectorstores import FAISS\n",
    "vectorstoredb=FAISS.from_documents(documents,embeddings)\n",
    "vectorstoredb"
   ]
  },
  {
   "cell_type": "code",
   "execution_count": null,
   "metadata": {},
   "outputs": [],
   "source": []
  },
  {
   "cell_type": "code",
   "execution_count": 41,
   "metadata": {},
   "outputs": [
    {
     "data": {
      "text/plain": [
       "<langchain_community.vectorstores.faiss.FAISS at 0x1310cb9b0>"
      ]
     },
     "execution_count": 20,
     "metadata": {},
     "output_type": "execute_result"
    }
   ],
   "source": [
    "vectorstoredb"
   ]
  },
  {
   "cell_type": "code",
   "execution_count": 49,
   "metadata": {},
   "outputs": [
    {
     "data": {
      "text/plain": [
       "[Document(id='e38f54dc-c033-4eac-9c18-41b2af6fc168', metadata={'source': '../Bee.pdf', 'page': 12, 'page_label': '13'}, page_content=' \\n10 \\n \\nBeehive.ey.com \\n8. Further Review and Workflow Options \\n \\na. Document name \\nYou can view the document name above the editor. This will begin with \\na default name for new documents . To rename, simply click the edit \\nicon to the right of the name and type in your desired name. \\nb. Document status \\nThe status of the document can be seen above the editor. The default \\nstatus is ‘draft’. You can change the status to ‘complete’ once all \\nquestions have been answered. Note: If a text answer is not applicable \\nthen please answer with a space. \\nc. Document assignee \\nDocument Assignee can be viewed above the editor. For new documents \\nthe assignee will default to the document creator. You can choose \\nanother assignee by selected a name from the dropdown.  This will be \\nreflected in the Project Documents page so that the project team can \\nkeep track of document accountabilities. \\nd. Download document \\nAt any point during the document creation process you can download \\nthe document. This will download an MS Word version of the document. \\nNote: You must save the document at least once before downloading. \\n'),\n",
       " Document(id='1c6b817e-cffc-42ea-9019-b3d6fcb2c831', metadata={'source': '../Bee.pdf', 'page': 4, 'page_label': '5'}, page_content=' \\n2 \\n \\nBeehive.ey.com \\n3. Project Documents  \\nDocuments created within your project can be viewed within the ‘Project \\nDocuments’ table. \\n \\na. Search \\nYou can search by the document title \\nb. Title \\nThe document name \\nc. Status \\nStatus shows if the document is  ‘draft’ or ‘complete’. If complete is \\nselected the document will be locked for further editing. \\nd. Assigned to \\nThe project member that the document is assigned to \\ne. Last Edited \\nThe date of the last edit to the document (DD/MM/YYYY). \\n \\n \\n \\n'),\n",
       " Document(id='ac8d6227-88ce-4a24-9651-3d76074bcaca', metadata={'source': '../Bee.pdf', 'page': 0, 'page_label': '1'}, page_content='        \\n \\n \\n    \\nBeehive \\nGetting you up and running with Beehive Documents \\nDocuments '),\n",
       " Document(id='9430eae1-f29c-4789-b726-515e6cdaeae5', metadata={'source': '../Bee.pdf', 'page': 15, 'page_label': '16'}, page_content=' \\n13 \\n \\nBeehive.ey.com \\nText input  The text you enter will be populated in the document \\n \\nPreparer  Documents are created by Preparer users within \\nprojects \\n \\nProject \\nDocuments \\n The overview page which shows all project \\ndocuments, their status and who each document is \\nassigned to \\n \\nQuestionnaire  The left-hand window which shows the questions to \\nbe completed to populate the document \\n \\n \\n \\n ')]"
      ]
     },
     "execution_count": 49,
     "metadata": {},
     "output_type": "execute_result"
    }
   ],
   "source": [
    "query=\"What is status?\"\n",
    "result=vectorstoredb.similarity_search(query)\n",
    "result"
   ]
  },
  {
   "cell_type": "code",
   "execution_count": 52,
   "metadata": {},
   "outputs": [
    {
     "data": {
      "text/plain": [
       "'Human: Answer the following question based only on the provided context: <langchain_community.vectorstores.faiss.FAISS object at 0x1310cb9b0>\\nQuestion: What is status? '"
      ]
     },
     "execution_count": 52,
     "metadata": {},
     "output_type": "execute_result"
    }
   ],
   "source": [
    "\n",
    "from langchain_core.prompts import ChatPromptTemplate\n",
    "prompt=ChatPromptTemplate.from_template(\n",
    "    \"\"\"Answer the following question based only on the provided context: {context}\n",
    "Question: {question} \"\"\")\n",
    "\n",
    "context=result\n",
    "question=query\n",
    "formatted_prompt = prompt.format(context=context, question=question)\n",
    "formatted_prompt"
   ]
  },
  {
   "cell_type": "code",
   "execution_count": 50,
   "metadata": {},
   "outputs": [
    {
     "data": {
      "text/plain": [
       "[Document(id='e38f54dc-c033-4eac-9c18-41b2af6fc168', metadata={'source': '../Bee.pdf', 'page': 12, 'page_label': '13'}, page_content=' \\n10 \\n \\nBeehive.ey.com \\n8. Further Review and Workflow Options \\n \\na. Document name \\nYou can view the document name above the editor. This will begin with \\na default name for new documents . To rename, simply click the edit \\nicon to the right of the name and type in your desired name. \\nb. Document status \\nThe status of the document can be seen above the editor. The default \\nstatus is ‘draft’. You can change the status to ‘complete’ once all \\nquestions have been answered. Note: If a text answer is not applicable \\nthen please answer with a space. \\nc. Document assignee \\nDocument Assignee can be viewed above the editor. For new documents \\nthe assignee will default to the document creator. You can choose \\nanother assignee by selected a name from the dropdown.  This will be \\nreflected in the Project Documents page so that the project team can \\nkeep track of document accountabilities. \\nd. Download document \\nAt any point during the document creation process you can download \\nthe document. This will download an MS Word version of the document. \\nNote: You must save the document at least once before downloading. \\n'),\n",
       " Document(id='1c6b817e-cffc-42ea-9019-b3d6fcb2c831', metadata={'source': '../Bee.pdf', 'page': 4, 'page_label': '5'}, page_content=' \\n2 \\n \\nBeehive.ey.com \\n3. Project Documents  \\nDocuments created within your project can be viewed within the ‘Project \\nDocuments’ table. \\n \\na. Search \\nYou can search by the document title \\nb. Title \\nThe document name \\nc. Status \\nStatus shows if the document is  ‘draft’ or ‘complete’. If complete is \\nselected the document will be locked for further editing. \\nd. Assigned to \\nThe project member that the document is assigned to \\ne. Last Edited \\nThe date of the last edit to the document (DD/MM/YYYY). \\n \\n \\n \\n'),\n",
       " Document(id='ac8d6227-88ce-4a24-9651-3d76074bcaca', metadata={'source': '../Bee.pdf', 'page': 0, 'page_label': '1'}, page_content='        \\n \\n \\n    \\nBeehive \\nGetting you up and running with Beehive Documents \\nDocuments '),\n",
       " Document(id='9430eae1-f29c-4789-b726-515e6cdaeae5', metadata={'source': '../Bee.pdf', 'page': 15, 'page_label': '16'}, page_content=' \\n13 \\n \\nBeehive.ey.com \\nText input  The text you enter will be populated in the document \\n \\nPreparer  Documents are created by Preparer users within \\nprojects \\n \\nProject \\nDocuments \\n The overview page which shows all project \\ndocuments, their status and who each document is \\nassigned to \\n \\nQuestionnaire  The left-hand window which shows the questions to \\nbe completed to populate the document \\n \\n \\n \\n ')]"
      ]
     },
     "execution_count": 50,
     "metadata": {},
     "output_type": "execute_result"
    }
   ],
   "source": [
    "result"
   ]
  }
 ],
 "metadata": {
  "kernelspec": {
   "display_name": "Python 3",
   "language": "python",
   "name": "python3"
  },
  "language_info": {
   "codemirror_mode": {
    "name": "ipython",
    "version": 3
   },
   "file_extension": ".py",
   "mimetype": "text/x-python",
   "name": "python",
   "nbconvert_exporter": "python",
   "pygments_lexer": "ipython3",
   "version": "3.12.0"
  }
 },
 "nbformat": 4,
 "nbformat_minor": 2
}
